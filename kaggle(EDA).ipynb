{
 "cells": [
  {
   "cell_type": "code",
   "execution_count": 3,
   "metadata": {},
   "outputs": [],
   "source": [
    "import warnings\n",
    "\n",
    "warnings.filterwarnings(action='ignore')\n",
    "\n",
    "from os.path import join\n",
    "import pandas as pd\n",
    "import numpy  as np\n",
    "import xgboost as xgb\n",
    "\n",
    "import numpy as np\n",
    "import pandas as pd\n",
    "import matplotlib.pyplot as plt\n",
    "import seaborn as sns\n",
    "\n",
    "\n",
    "sample_data = pd.read_csv(join('data', join('kaggle', 'train.csv')))"
   ]
  },
  {
   "cell_type": "markdown",
   "metadata": {},
   "source": [
    "#전처리(변수 간 세부 수치는 SQL 통해 확인하였음)"
   ]
  },
  {
   "cell_type": "code",
   "execution_count": 4,
   "metadata": {
    "scrolled": true
   },
   "outputs": [
    {
     "data": {
      "text/html": [
       "<div>\n",
       "<style scoped>\n",
       "    .dataframe tbody tr th:only-of-type {\n",
       "        vertical-align: middle;\n",
       "    }\n",
       "\n",
       "    .dataframe tbody tr th {\n",
       "        vertical-align: top;\n",
       "    }\n",
       "\n",
       "    .dataframe thead th {\n",
       "        text-align: right;\n",
       "    }\n",
       "</style>\n",
       "<table border=\"1\" class=\"dataframe\">\n",
       "  <thead>\n",
       "    <tr style=\"text-align: right;\">\n",
       "      <th></th>\n",
       "      <th>id</th>\n",
       "      <th>age</th>\n",
       "      <th>workclass</th>\n",
       "      <th>fnlwgt</th>\n",
       "      <th>education</th>\n",
       "      <th>education_num</th>\n",
       "      <th>marital_status</th>\n",
       "      <th>occupation</th>\n",
       "      <th>relationship</th>\n",
       "      <th>race</th>\n",
       "      <th>sex</th>\n",
       "      <th>capital_gain</th>\n",
       "      <th>capital_loss</th>\n",
       "      <th>hours_per_week</th>\n",
       "      <th>native_country</th>\n",
       "      <th>income</th>\n",
       "    </tr>\n",
       "  </thead>\n",
       "  <tbody>\n",
       "    <tr>\n",
       "      <th>0</th>\n",
       "      <td>0</td>\n",
       "      <td>40</td>\n",
       "      <td>Private</td>\n",
       "      <td>168538</td>\n",
       "      <td>HS-grad</td>\n",
       "      <td>9</td>\n",
       "      <td>Married-civ-spouse</td>\n",
       "      <td>Sales</td>\n",
       "      <td>Husband</td>\n",
       "      <td>White</td>\n",
       "      <td>Male</td>\n",
       "      <td>0</td>\n",
       "      <td>0</td>\n",
       "      <td>60</td>\n",
       "      <td>United-States</td>\n",
       "      <td>&gt;50K</td>\n",
       "    </tr>\n",
       "    <tr>\n",
       "      <th>1</th>\n",
       "      <td>1</td>\n",
       "      <td>17</td>\n",
       "      <td>Private</td>\n",
       "      <td>101626</td>\n",
       "      <td>9th</td>\n",
       "      <td>5</td>\n",
       "      <td>Never-married</td>\n",
       "      <td>Machine-op-inspct</td>\n",
       "      <td>Own-child</td>\n",
       "      <td>White</td>\n",
       "      <td>Male</td>\n",
       "      <td>0</td>\n",
       "      <td>0</td>\n",
       "      <td>20</td>\n",
       "      <td>United-States</td>\n",
       "      <td>&lt;=50K</td>\n",
       "    </tr>\n",
       "    <tr>\n",
       "      <th>2</th>\n",
       "      <td>2</td>\n",
       "      <td>18</td>\n",
       "      <td>Private</td>\n",
       "      <td>353358</td>\n",
       "      <td>Some-college</td>\n",
       "      <td>10</td>\n",
       "      <td>Never-married</td>\n",
       "      <td>Other-service</td>\n",
       "      <td>Own-child</td>\n",
       "      <td>White</td>\n",
       "      <td>Male</td>\n",
       "      <td>0</td>\n",
       "      <td>0</td>\n",
       "      <td>16</td>\n",
       "      <td>United-States</td>\n",
       "      <td>&lt;=50K</td>\n",
       "    </tr>\n",
       "    <tr>\n",
       "      <th>3</th>\n",
       "      <td>3</td>\n",
       "      <td>21</td>\n",
       "      <td>Private</td>\n",
       "      <td>151158</td>\n",
       "      <td>Some-college</td>\n",
       "      <td>10</td>\n",
       "      <td>Never-married</td>\n",
       "      <td>Prof-specialty</td>\n",
       "      <td>Own-child</td>\n",
       "      <td>White</td>\n",
       "      <td>Female</td>\n",
       "      <td>0</td>\n",
       "      <td>0</td>\n",
       "      <td>25</td>\n",
       "      <td>United-States</td>\n",
       "      <td>&lt;=50K</td>\n",
       "    </tr>\n",
       "    <tr>\n",
       "      <th>4</th>\n",
       "      <td>4</td>\n",
       "      <td>24</td>\n",
       "      <td>Private</td>\n",
       "      <td>122234</td>\n",
       "      <td>Some-college</td>\n",
       "      <td>10</td>\n",
       "      <td>Never-married</td>\n",
       "      <td>Adm-clerical</td>\n",
       "      <td>Not-in-family</td>\n",
       "      <td>Black</td>\n",
       "      <td>Female</td>\n",
       "      <td>0</td>\n",
       "      <td>0</td>\n",
       "      <td>20</td>\n",
       "      <td>?</td>\n",
       "      <td>&lt;=50K</td>\n",
       "    </tr>\n",
       "    <tr>\n",
       "      <th>...</th>\n",
       "      <td>...</td>\n",
       "      <td>...</td>\n",
       "      <td>...</td>\n",
       "      <td>...</td>\n",
       "      <td>...</td>\n",
       "      <td>...</td>\n",
       "      <td>...</td>\n",
       "      <td>...</td>\n",
       "      <td>...</td>\n",
       "      <td>...</td>\n",
       "      <td>...</td>\n",
       "      <td>...</td>\n",
       "      <td>...</td>\n",
       "      <td>...</td>\n",
       "      <td>...</td>\n",
       "      <td>...</td>\n",
       "    </tr>\n",
       "    <tr>\n",
       "      <th>26044</th>\n",
       "      <td>26044</td>\n",
       "      <td>57</td>\n",
       "      <td>Private</td>\n",
       "      <td>250201</td>\n",
       "      <td>11th</td>\n",
       "      <td>7</td>\n",
       "      <td>Married-civ-spouse</td>\n",
       "      <td>Other-service</td>\n",
       "      <td>Husband</td>\n",
       "      <td>White</td>\n",
       "      <td>Male</td>\n",
       "      <td>0</td>\n",
       "      <td>0</td>\n",
       "      <td>52</td>\n",
       "      <td>United-States</td>\n",
       "      <td>&lt;=50K</td>\n",
       "    </tr>\n",
       "    <tr>\n",
       "      <th>26045</th>\n",
       "      <td>26045</td>\n",
       "      <td>23</td>\n",
       "      <td>Private</td>\n",
       "      <td>238092</td>\n",
       "      <td>Bachelors</td>\n",
       "      <td>13</td>\n",
       "      <td>Never-married</td>\n",
       "      <td>Prof-specialty</td>\n",
       "      <td>Own-child</td>\n",
       "      <td>White</td>\n",
       "      <td>Male</td>\n",
       "      <td>0</td>\n",
       "      <td>0</td>\n",
       "      <td>40</td>\n",
       "      <td>United-States</td>\n",
       "      <td>&lt;=50K</td>\n",
       "    </tr>\n",
       "    <tr>\n",
       "      <th>26046</th>\n",
       "      <td>26046</td>\n",
       "      <td>78</td>\n",
       "      <td>?</td>\n",
       "      <td>165694</td>\n",
       "      <td>Masters</td>\n",
       "      <td>14</td>\n",
       "      <td>Widowed</td>\n",
       "      <td>?</td>\n",
       "      <td>Not-in-family</td>\n",
       "      <td>White</td>\n",
       "      <td>Female</td>\n",
       "      <td>0</td>\n",
       "      <td>0</td>\n",
       "      <td>15</td>\n",
       "      <td>United-States</td>\n",
       "      <td>&lt;=50K</td>\n",
       "    </tr>\n",
       "    <tr>\n",
       "      <th>26047</th>\n",
       "      <td>26047</td>\n",
       "      <td>26</td>\n",
       "      <td>Self-emp-not-inc</td>\n",
       "      <td>151626</td>\n",
       "      <td>HS-grad</td>\n",
       "      <td>9</td>\n",
       "      <td>Never-married</td>\n",
       "      <td>Prof-specialty</td>\n",
       "      <td>Own-child</td>\n",
       "      <td>Black</td>\n",
       "      <td>Female</td>\n",
       "      <td>0</td>\n",
       "      <td>0</td>\n",
       "      <td>40</td>\n",
       "      <td>United-States</td>\n",
       "      <td>&lt;=50K</td>\n",
       "    </tr>\n",
       "    <tr>\n",
       "      <th>26048</th>\n",
       "      <td>26048</td>\n",
       "      <td>20</td>\n",
       "      <td>?</td>\n",
       "      <td>99891</td>\n",
       "      <td>Some-college</td>\n",
       "      <td>10</td>\n",
       "      <td>Never-married</td>\n",
       "      <td>?</td>\n",
       "      <td>Own-child</td>\n",
       "      <td>White</td>\n",
       "      <td>Female</td>\n",
       "      <td>0</td>\n",
       "      <td>0</td>\n",
       "      <td>30</td>\n",
       "      <td>United-States</td>\n",
       "      <td>&lt;=50K</td>\n",
       "    </tr>\n",
       "  </tbody>\n",
       "</table>\n",
       "<p>26049 rows × 16 columns</p>\n",
       "</div>"
      ],
      "text/plain": [
       "          id  age         workclass  fnlwgt     education  education_num  \\\n",
       "0          0   40           Private  168538       HS-grad              9   \n",
       "1          1   17           Private  101626           9th              5   \n",
       "2          2   18           Private  353358  Some-college             10   \n",
       "3          3   21           Private  151158  Some-college             10   \n",
       "4          4   24           Private  122234  Some-college             10   \n",
       "...      ...  ...               ...     ...           ...            ...   \n",
       "26044  26044   57           Private  250201          11th              7   \n",
       "26045  26045   23           Private  238092     Bachelors             13   \n",
       "26046  26046   78                 ?  165694       Masters             14   \n",
       "26047  26047   26  Self-emp-not-inc  151626       HS-grad              9   \n",
       "26048  26048   20                 ?   99891  Some-college             10   \n",
       "\n",
       "           marital_status         occupation   relationship   race     sex  \\\n",
       "0      Married-civ-spouse              Sales        Husband  White    Male   \n",
       "1           Never-married  Machine-op-inspct      Own-child  White    Male   \n",
       "2           Never-married      Other-service      Own-child  White    Male   \n",
       "3           Never-married     Prof-specialty      Own-child  White  Female   \n",
       "4           Never-married       Adm-clerical  Not-in-family  Black  Female   \n",
       "...                   ...                ...            ...    ...     ...   \n",
       "26044  Married-civ-spouse      Other-service        Husband  White    Male   \n",
       "26045       Never-married     Prof-specialty      Own-child  White    Male   \n",
       "26046             Widowed                  ?  Not-in-family  White  Female   \n",
       "26047       Never-married     Prof-specialty      Own-child  Black  Female   \n",
       "26048       Never-married                  ?      Own-child  White  Female   \n",
       "\n",
       "       capital_gain  capital_loss  hours_per_week native_country income  \n",
       "0                 0             0              60  United-States   >50K  \n",
       "1                 0             0              20  United-States  <=50K  \n",
       "2                 0             0              16  United-States  <=50K  \n",
       "3                 0             0              25  United-States  <=50K  \n",
       "4                 0             0              20              ?  <=50K  \n",
       "...             ...           ...             ...            ...    ...  \n",
       "26044             0             0              52  United-States  <=50K  \n",
       "26045             0             0              40  United-States  <=50K  \n",
       "26046             0             0              15  United-States  <=50K  \n",
       "26047             0             0              40  United-States  <=50K  \n",
       "26048             0             0              30  United-States  <=50K  \n",
       "\n",
       "[26049 rows x 16 columns]"
      ]
     },
     "execution_count": 4,
     "metadata": {},
     "output_type": "execute_result"
    }
   ],
   "source": [
    "sample_data"
   ]
  },
  {
   "cell_type": "markdown",
   "metadata": {},
   "source": [
    "income 변수 전처리(Binary)"
   ]
  },
  {
   "cell_type": "code",
   "execution_count": 5,
   "metadata": {},
   "outputs": [],
   "source": [
    "sample_data['income'] = sample_data['income'].apply(lambda x: 1 if x == '>50K' else 0)"
   ]
  },
  {
   "cell_type": "code",
   "execution_count": 6,
   "metadata": {},
   "outputs": [],
   "source": [
    "sample_data.drop(columns=['id'],inplace=True)"
   ]
  },
  {
   "cell_type": "code",
   "execution_count": 7,
   "metadata": {},
   "outputs": [
    {
     "data": {
      "text/html": [
       "<div>\n",
       "<style scoped>\n",
       "    .dataframe tbody tr th:only-of-type {\n",
       "        vertical-align: middle;\n",
       "    }\n",
       "\n",
       "    .dataframe tbody tr th {\n",
       "        vertical-align: top;\n",
       "    }\n",
       "\n",
       "    .dataframe thead th {\n",
       "        text-align: right;\n",
       "    }\n",
       "</style>\n",
       "<table border=\"1\" class=\"dataframe\">\n",
       "  <thead>\n",
       "    <tr style=\"text-align: right;\">\n",
       "      <th></th>\n",
       "      <th>age</th>\n",
       "      <th>workclass</th>\n",
       "      <th>fnlwgt</th>\n",
       "      <th>education</th>\n",
       "      <th>education_num</th>\n",
       "      <th>marital_status</th>\n",
       "      <th>occupation</th>\n",
       "      <th>relationship</th>\n",
       "      <th>race</th>\n",
       "      <th>sex</th>\n",
       "      <th>capital_gain</th>\n",
       "      <th>capital_loss</th>\n",
       "      <th>hours_per_week</th>\n",
       "      <th>native_country</th>\n",
       "      <th>income</th>\n",
       "    </tr>\n",
       "  </thead>\n",
       "  <tbody>\n",
       "    <tr>\n",
       "      <th>0</th>\n",
       "      <td>40</td>\n",
       "      <td>Private</td>\n",
       "      <td>168538</td>\n",
       "      <td>HS-grad</td>\n",
       "      <td>9</td>\n",
       "      <td>Married-civ-spouse</td>\n",
       "      <td>Sales</td>\n",
       "      <td>Husband</td>\n",
       "      <td>White</td>\n",
       "      <td>Male</td>\n",
       "      <td>0</td>\n",
       "      <td>0</td>\n",
       "      <td>60</td>\n",
       "      <td>United-States</td>\n",
       "      <td>1</td>\n",
       "    </tr>\n",
       "    <tr>\n",
       "      <th>1</th>\n",
       "      <td>17</td>\n",
       "      <td>Private</td>\n",
       "      <td>101626</td>\n",
       "      <td>9th</td>\n",
       "      <td>5</td>\n",
       "      <td>Never-married</td>\n",
       "      <td>Machine-op-inspct</td>\n",
       "      <td>Own-child</td>\n",
       "      <td>White</td>\n",
       "      <td>Male</td>\n",
       "      <td>0</td>\n",
       "      <td>0</td>\n",
       "      <td>20</td>\n",
       "      <td>United-States</td>\n",
       "      <td>0</td>\n",
       "    </tr>\n",
       "    <tr>\n",
       "      <th>2</th>\n",
       "      <td>18</td>\n",
       "      <td>Private</td>\n",
       "      <td>353358</td>\n",
       "      <td>Some-college</td>\n",
       "      <td>10</td>\n",
       "      <td>Never-married</td>\n",
       "      <td>Other-service</td>\n",
       "      <td>Own-child</td>\n",
       "      <td>White</td>\n",
       "      <td>Male</td>\n",
       "      <td>0</td>\n",
       "      <td>0</td>\n",
       "      <td>16</td>\n",
       "      <td>United-States</td>\n",
       "      <td>0</td>\n",
       "    </tr>\n",
       "    <tr>\n",
       "      <th>3</th>\n",
       "      <td>21</td>\n",
       "      <td>Private</td>\n",
       "      <td>151158</td>\n",
       "      <td>Some-college</td>\n",
       "      <td>10</td>\n",
       "      <td>Never-married</td>\n",
       "      <td>Prof-specialty</td>\n",
       "      <td>Own-child</td>\n",
       "      <td>White</td>\n",
       "      <td>Female</td>\n",
       "      <td>0</td>\n",
       "      <td>0</td>\n",
       "      <td>25</td>\n",
       "      <td>United-States</td>\n",
       "      <td>0</td>\n",
       "    </tr>\n",
       "    <tr>\n",
       "      <th>4</th>\n",
       "      <td>24</td>\n",
       "      <td>Private</td>\n",
       "      <td>122234</td>\n",
       "      <td>Some-college</td>\n",
       "      <td>10</td>\n",
       "      <td>Never-married</td>\n",
       "      <td>Adm-clerical</td>\n",
       "      <td>Not-in-family</td>\n",
       "      <td>Black</td>\n",
       "      <td>Female</td>\n",
       "      <td>0</td>\n",
       "      <td>0</td>\n",
       "      <td>20</td>\n",
       "      <td>?</td>\n",
       "      <td>0</td>\n",
       "    </tr>\n",
       "    <tr>\n",
       "      <th>...</th>\n",
       "      <td>...</td>\n",
       "      <td>...</td>\n",
       "      <td>...</td>\n",
       "      <td>...</td>\n",
       "      <td>...</td>\n",
       "      <td>...</td>\n",
       "      <td>...</td>\n",
       "      <td>...</td>\n",
       "      <td>...</td>\n",
       "      <td>...</td>\n",
       "      <td>...</td>\n",
       "      <td>...</td>\n",
       "      <td>...</td>\n",
       "      <td>...</td>\n",
       "      <td>...</td>\n",
       "    </tr>\n",
       "    <tr>\n",
       "      <th>26044</th>\n",
       "      <td>57</td>\n",
       "      <td>Private</td>\n",
       "      <td>250201</td>\n",
       "      <td>11th</td>\n",
       "      <td>7</td>\n",
       "      <td>Married-civ-spouse</td>\n",
       "      <td>Other-service</td>\n",
       "      <td>Husband</td>\n",
       "      <td>White</td>\n",
       "      <td>Male</td>\n",
       "      <td>0</td>\n",
       "      <td>0</td>\n",
       "      <td>52</td>\n",
       "      <td>United-States</td>\n",
       "      <td>0</td>\n",
       "    </tr>\n",
       "    <tr>\n",
       "      <th>26045</th>\n",
       "      <td>23</td>\n",
       "      <td>Private</td>\n",
       "      <td>238092</td>\n",
       "      <td>Bachelors</td>\n",
       "      <td>13</td>\n",
       "      <td>Never-married</td>\n",
       "      <td>Prof-specialty</td>\n",
       "      <td>Own-child</td>\n",
       "      <td>White</td>\n",
       "      <td>Male</td>\n",
       "      <td>0</td>\n",
       "      <td>0</td>\n",
       "      <td>40</td>\n",
       "      <td>United-States</td>\n",
       "      <td>0</td>\n",
       "    </tr>\n",
       "    <tr>\n",
       "      <th>26046</th>\n",
       "      <td>78</td>\n",
       "      <td>?</td>\n",
       "      <td>165694</td>\n",
       "      <td>Masters</td>\n",
       "      <td>14</td>\n",
       "      <td>Widowed</td>\n",
       "      <td>?</td>\n",
       "      <td>Not-in-family</td>\n",
       "      <td>White</td>\n",
       "      <td>Female</td>\n",
       "      <td>0</td>\n",
       "      <td>0</td>\n",
       "      <td>15</td>\n",
       "      <td>United-States</td>\n",
       "      <td>0</td>\n",
       "    </tr>\n",
       "    <tr>\n",
       "      <th>26047</th>\n",
       "      <td>26</td>\n",
       "      <td>Self-emp-not-inc</td>\n",
       "      <td>151626</td>\n",
       "      <td>HS-grad</td>\n",
       "      <td>9</td>\n",
       "      <td>Never-married</td>\n",
       "      <td>Prof-specialty</td>\n",
       "      <td>Own-child</td>\n",
       "      <td>Black</td>\n",
       "      <td>Female</td>\n",
       "      <td>0</td>\n",
       "      <td>0</td>\n",
       "      <td>40</td>\n",
       "      <td>United-States</td>\n",
       "      <td>0</td>\n",
       "    </tr>\n",
       "    <tr>\n",
       "      <th>26048</th>\n",
       "      <td>20</td>\n",
       "      <td>?</td>\n",
       "      <td>99891</td>\n",
       "      <td>Some-college</td>\n",
       "      <td>10</td>\n",
       "      <td>Never-married</td>\n",
       "      <td>?</td>\n",
       "      <td>Own-child</td>\n",
       "      <td>White</td>\n",
       "      <td>Female</td>\n",
       "      <td>0</td>\n",
       "      <td>0</td>\n",
       "      <td>30</td>\n",
       "      <td>United-States</td>\n",
       "      <td>0</td>\n",
       "    </tr>\n",
       "  </tbody>\n",
       "</table>\n",
       "<p>26049 rows × 15 columns</p>\n",
       "</div>"
      ],
      "text/plain": [
       "       age         workclass  fnlwgt     education  education_num  \\\n",
       "0       40           Private  168538       HS-grad              9   \n",
       "1       17           Private  101626           9th              5   \n",
       "2       18           Private  353358  Some-college             10   \n",
       "3       21           Private  151158  Some-college             10   \n",
       "4       24           Private  122234  Some-college             10   \n",
       "...    ...               ...     ...           ...            ...   \n",
       "26044   57           Private  250201          11th              7   \n",
       "26045   23           Private  238092     Bachelors             13   \n",
       "26046   78                 ?  165694       Masters             14   \n",
       "26047   26  Self-emp-not-inc  151626       HS-grad              9   \n",
       "26048   20                 ?   99891  Some-college             10   \n",
       "\n",
       "           marital_status         occupation   relationship   race     sex  \\\n",
       "0      Married-civ-spouse              Sales        Husband  White    Male   \n",
       "1           Never-married  Machine-op-inspct      Own-child  White    Male   \n",
       "2           Never-married      Other-service      Own-child  White    Male   \n",
       "3           Never-married     Prof-specialty      Own-child  White  Female   \n",
       "4           Never-married       Adm-clerical  Not-in-family  Black  Female   \n",
       "...                   ...                ...            ...    ...     ...   \n",
       "26044  Married-civ-spouse      Other-service        Husband  White    Male   \n",
       "26045       Never-married     Prof-specialty      Own-child  White    Male   \n",
       "26046             Widowed                  ?  Not-in-family  White  Female   \n",
       "26047       Never-married     Prof-specialty      Own-child  Black  Female   \n",
       "26048       Never-married                  ?      Own-child  White  Female   \n",
       "\n",
       "       capital_gain  capital_loss  hours_per_week native_country  income  \n",
       "0                 0             0              60  United-States       1  \n",
       "1                 0             0              20  United-States       0  \n",
       "2                 0             0              16  United-States       0  \n",
       "3                 0             0              25  United-States       0  \n",
       "4                 0             0              20              ?       0  \n",
       "...             ...           ...             ...            ...     ...  \n",
       "26044             0             0              52  United-States       0  \n",
       "26045             0             0              40  United-States       0  \n",
       "26046             0             0              15  United-States       0  \n",
       "26047             0             0              40  United-States       0  \n",
       "26048             0             0              30  United-States       0  \n",
       "\n",
       "[26049 rows x 15 columns]"
      ]
     },
     "execution_count": 7,
     "metadata": {},
     "output_type": "execute_result"
    }
   ],
   "source": [
    "sample_data"
   ]
  },
  {
   "cell_type": "markdown",
   "metadata": {},
   "source": [
    "특이값 확인 과정"
   ]
  },
  {
   "cell_type": "code",
   "execution_count": 8,
   "metadata": {},
   "outputs": [
    {
     "name": "stdout",
     "output_type": "stream",
     "text": [
      "age\n",
      "[40 17 18 21 24 43 37 47 41 34 44 50 39 32 54 26 29 53 31 46 23 20 22 27\n",
      " 51 57 25 76 38 66 64 58 45 52 67 65 35 19 68 28 33 36 63 62 42 59 49 30\n",
      " 56 48 61 60 55 72 69 74 81 71 84 70 80 78 90 79 75 73 83 82 85 77 87 88\n",
      " 86]\n",
      "workclass\n",
      "['Private' 'State-gov' '?' 'Self-emp-not-inc' 'Local-gov' 'Federal-gov'\n",
      " 'Self-emp-inc' 'Without-pay' 'Never-worked']\n",
      "fnlwgt\n",
      "[168538 101626 353358 ... 238092 165694  99891]\n",
      "education\n",
      "['HS-grad' '9th' 'Some-college' 'Bachelors' '11th' '1st-4th' '5th-6th'\n",
      " 'Assoc-acdm' '10th' 'Prof-school' '7th-8th' 'Masters' 'Assoc-voc'\n",
      " 'Doctorate' '12th' 'Preschool']\n",
      "education_num\n",
      "[ 9  5 10 13  7  2  3 12  6 15  4 14 11 16  8  1]\n",
      "marital_status\n",
      "['Married-civ-spouse' 'Never-married' 'Separated' 'Married-spouse-absent'\n",
      " 'Divorced' 'Widowed' 'Married-AF-spouse']\n",
      "occupation\n",
      "['Sales' 'Machine-op-inspct' 'Other-service' 'Prof-specialty'\n",
      " 'Adm-clerical' 'Craft-repair' '?' 'Handlers-cleaners' 'Farming-fishing'\n",
      " 'Exec-managerial' 'Transport-moving' 'Protective-serv' 'Tech-support'\n",
      " 'Priv-house-serv' 'Armed-Forces']\n",
      "relationship\n",
      "['Husband' 'Own-child' 'Not-in-family' 'Unmarried' 'Wife' 'Other-relative']\n",
      "race\n",
      "['White' 'Black' 'Asian-Pac-Islander' 'Other' 'Amer-Indian-Eskimo']\n",
      "sex\n",
      "['Male' 'Female']\n",
      "capital_gain\n",
      "[    0  7298  3103  2176  2885  2174  3273  4064  2414  7688 15024  2829\n",
      "  3411 99999  1173  1797  4650  4101  4386  3325  7896  2580  2202  5178\n",
      "  3781  6849  8614  3464  6767  5013 20051  1055  2050  2964 10520  3908\n",
      "  2463  3942  4787   991   914  2407  4934  3818  3418  2346  1639 14344\n",
      "  1848 25124  2228  1086 14084 13550 25236  2538  6360  5455 34095  3432\n",
      "  2329  9386  6514  6723   114  2062 10566  1151  6497  2907  7443  4416\n",
      "  3137  9562 10605  1506  6097  2354 22040  2290 27828  3887   594  2977\n",
      "  5721 15831  4865  1111  2597  3471  3674  4931  2993  7430  4508  1471\n",
      "  1424  7978  4687 15020  5556  3456  2036  1409  2653  6418 11678  2635\n",
      "   401 41310  2009  2105  2387 18481  1831  2936  2961  5060  1455]\n",
      "capital_loss\n",
      "[   0 2051 1980 1602 1590 1977 1740 2415 1617 1887 1902 1719 1579 1672\n",
      " 1974 1848 1628 2206 1741 2824 2002 3683 2547 1876 1485 1721 2258 2129\n",
      " 1669  880 2457 2559 2057 2603 1408 2201 1504 1668 1762 2392 2377 2001\n",
      "  625 2179 1651 1138 1380 1825 1726 2489 2174 1564 2042  974 1648 1816\n",
      " 2246 1258 1092 1340 2163  213 2205 3770  323 2444 2231 1594 3900 4356\n",
      "  810 2352 2339 2149 2467 2754 1573 1411 1735 2472  155 2238  419 1944\n",
      " 1755 2267 1844  653 1539 2080]\n",
      "hours_per_week\n",
      "[60 20 16 25 40 50 65 35 45  5 99 36 52 30 10 48 55 18 42 32 22 80 70 43\n",
      " 38 46 84 37  7  8 26 15 44 24 49 72 14 47 41 68 90 85  4 54 12 56  3  9\n",
      " 33 17 66 91 58 13 62 11 23 34  1 27 53 75 28 96  6 57 95 64 19 39 31 59\n",
      " 29  2 98 51 67 21 86 82 78 77 74 63 76 97 73 81 92 89 88 94 61]\n",
      "native_country\n",
      "['United-States' '?' 'Mexico' 'Poland' 'Philippines' 'Puerto-Rico'\n",
      " 'Vietnam' 'Germany' 'Cuba' 'France' 'Ireland' 'El-Salvador' 'Guatemala'\n",
      " 'Haiti' 'Trinadad&Tobago' 'Jamaica' 'Canada' 'Taiwan' 'South' 'Columbia'\n",
      " 'Peru' 'Japan' 'Dominican-Republic' 'China' 'England' 'Iran' 'India'\n",
      " 'Nicaragua' 'Italy' 'Honduras' 'Thailand' 'Ecuador' 'Portugal' 'Hungary'\n",
      " 'Greece' 'Hong' 'Outlying-US(Guam-USVI-etc)' 'Cambodia' 'Scotland'\n",
      " 'Yugoslavia' 'Laos']\n",
      "income\n",
      "[1 0]\n"
     ]
    }
   ],
   "source": [
    "#csv 파일에서 각 컬럼 별 unique값 확인\n",
    "columns = sample_data.columns.tolist()\n",
    "\n",
    "for i in columns:\n",
    "    print(i)\n",
    "    print(sample_data[i].unique())"
   ]
  },
  {
   "cell_type": "markdown",
   "metadata": {},
   "source": [
    "특이값(?) 결측치 처리"
   ]
  },
  {
   "cell_type": "code",
   "execution_count": 9,
   "metadata": {},
   "outputs": [],
   "source": [
    "#값들 중 ? 있는 부분 확인. nan 값으로 변경\n",
    "sample_data = sample_data.replace('?',np.nan)"
   ]
  },
  {
   "cell_type": "markdown",
   "metadata": {},
   "source": [
    "각 변수 별 개수 확인"
   ]
  },
  {
   "cell_type": "code",
   "execution_count": 10,
   "metadata": {},
   "outputs": [
    {
     "name": "stdout",
     "output_type": "stream",
     "text": [
      "columns: age\n",
      "31    712\n",
      "35    710\n",
      "23    706\n",
      "36    700\n",
      "34    697\n",
      "     ... \n",
      "83      5\n",
      "88      3\n",
      "85      2\n",
      "87      1\n",
      "86      1\n",
      "Name: age, Length: 73, dtype: int64\n",
      "columns: workclass\n",
      "Private             18123\n",
      "Self-emp-not-inc     2030\n",
      "Local-gov            1692\n",
      "State-gov            1043\n",
      "Self-emp-inc          877\n",
      "Federal-gov           765\n",
      "Without-pay            11\n",
      "Never-worked            6\n",
      "Name: workclass, dtype: int64\n",
      "columns: fnlwgt\n",
      "203488    11\n",
      "123011    10\n",
      "121124    10\n",
      "126675    10\n",
      "117963    10\n",
      "          ..\n",
      "177839     1\n",
      "519627     1\n",
      "157599     1\n",
      "200360     1\n",
      "125489     1\n",
      "Name: fnlwgt, Length: 18422, dtype: int64\n",
      "columns: education\n",
      "HS-grad         8433\n",
      "Some-college    5800\n",
      "Bachelors       4344\n",
      "Masters         1378\n",
      "Assoc-voc       1096\n",
      "11th             922\n",
      "Assoc-acdm       842\n",
      "10th             731\n",
      "7th-8th          505\n",
      "Prof-school      466\n",
      "9th              418\n",
      "12th             359\n",
      "Doctorate        316\n",
      "5th-6th          265\n",
      "1st-4th          134\n",
      "Preschool         40\n",
      "Name: education, dtype: int64\n",
      "columns: education_num\n",
      "9     8433\n",
      "10    5800\n",
      "13    4344\n",
      "14    1378\n",
      "11    1096\n",
      "7      922\n",
      "12     842\n",
      "6      731\n",
      "4      505\n",
      "15     466\n",
      "5      418\n",
      "8      359\n",
      "16     316\n",
      "3      265\n",
      "2      134\n",
      "1       40\n",
      "Name: education_num, dtype: int64\n",
      "columns: marital_status\n",
      "Married-civ-spouse       11970\n",
      "Never-married             8568\n",
      "Divorced                  3536\n",
      "Separated                  826\n",
      "Widowed                    796\n",
      "Married-spouse-absent      334\n",
      "Married-AF-spouse           19\n",
      "Name: marital_status, dtype: int64\n",
      "columns: occupation\n",
      "Prof-specialty       3304\n",
      "Craft-repair         3262\n",
      "Exec-managerial      3246\n",
      "Sales                2998\n",
      "Adm-clerical         2983\n",
      "Other-service        2626\n",
      "Machine-op-inspct    1582\n",
      "Transport-moving     1270\n",
      "Handlers-cleaners    1092\n",
      "Farming-fishing       784\n",
      "Tech-support          742\n",
      "Protective-serv       522\n",
      "Priv-house-serv       123\n",
      "Armed-Forces            7\n",
      "Name: occupation, dtype: int64\n",
      "columns: relationship\n",
      "Husband           10541\n",
      "Not-in-family      6632\n",
      "Own-child          4099\n",
      "Unmarried          2740\n",
      "Wife               1260\n",
      "Other-relative      777\n",
      "Name: relationship, dtype: int64\n",
      "columns: race\n",
      "White                 22315\n",
      "Black                  2476\n",
      "Asian-Pac-Islander      800\n",
      "Amer-Indian-Eskimo      254\n",
      "Other                   204\n",
      "Name: race, dtype: int64\n",
      "columns: sex\n",
      "Male      17482\n",
      "Female     8567\n",
      "Name: sex, dtype: int64\n",
      "columns: capital_gain\n",
      "0        23856\n",
      "15024      283\n",
      "7688       229\n",
      "7298       205\n",
      "99999      127\n",
      "         ...  \n",
      "1639         1\n",
      "11678        1\n",
      "22040        1\n",
      "6097         1\n",
      "1111         1\n",
      "Name: capital_gain, Length: 119, dtype: int64\n",
      "columns: capital_loss\n",
      "0       24823\n",
      "1902      168\n",
      "1977      136\n",
      "1887      129\n",
      "2415       41\n",
      "        ...  \n",
      "1944        1\n",
      "1411        1\n",
      "2472        1\n",
      "1539        1\n",
      "2489        1\n",
      "Name: capital_loss, Length: 90, dtype: int64\n",
      "columns: hours_per_week\n",
      "40    12154\n",
      "50     2314\n",
      "45     1458\n",
      "60     1164\n",
      "35     1042\n",
      "      ...  \n",
      "74        1\n",
      "92        1\n",
      "82        1\n",
      "88        1\n",
      "95        1\n",
      "Name: hours_per_week, Length: 93, dtype: int64\n",
      "columns: native_country\n",
      "United-States                 23371\n",
      "Mexico                          534\n",
      "Philippines                     163\n",
      "Germany                         101\n",
      "Puerto-Rico                      95\n",
      "Canada                           92\n",
      "El-Salvador                      79\n",
      "India                            77\n",
      "Cuba                             76\n",
      "England                          67\n",
      "Jamaica                          64\n",
      "South                            63\n",
      "China                            57\n",
      "Guatemala                        52\n",
      "Columbia                         52\n",
      "Italy                            50\n",
      "Vietnam                          50\n",
      "Dominican-Republic               48\n",
      "Poland                           47\n",
      "Japan                            47\n",
      "Taiwan                           39\n",
      "Iran                             35\n",
      "Haiti                            35\n",
      "Portugal                         30\n",
      "Nicaragua                        28\n",
      "Peru                             26\n",
      "Greece                           24\n",
      "France                           24\n",
      "Ecuador                          24\n",
      "Ireland                          18\n",
      "Laos                             15\n",
      "Trinadad&Tobago                  14\n",
      "Hong                             14\n",
      "Cambodia                         14\n",
      "Outlying-US(Guam-USVI-etc)       13\n",
      "Thailand                         13\n",
      "Yugoslavia                       12\n",
      "Honduras                         11\n",
      "Hungary                          11\n",
      "Scotland                          8\n",
      "Name: native_country, dtype: int64\n",
      "columns: income\n",
      "0    19744\n",
      "1     6305\n",
      "Name: income, dtype: int64\n"
     ]
    }
   ],
   "source": [
    "for c in columns:\n",
    "    print('columns:',c)\n",
    "    print(sample_data[c].value_counts())"
   ]
  },
  {
   "cell_type": "markdown",
   "metadata": {},
   "source": [
    "결측치 확인"
   ]
  },
  {
   "cell_type": "code",
   "execution_count": 11,
   "metadata": {},
   "outputs": [
    {
     "data": {
      "text/plain": [
       "age                  0\n",
       "workclass         1502\n",
       "fnlwgt               0\n",
       "education            0\n",
       "education_num        0\n",
       "marital_status       0\n",
       "occupation        1508\n",
       "relationship         0\n",
       "race                 0\n",
       "sex                  0\n",
       "capital_gain         0\n",
       "capital_loss         0\n",
       "hours_per_week       0\n",
       "native_country     456\n",
       "income               0\n",
       "dtype: int64"
      ]
     },
     "execution_count": 11,
     "metadata": {},
     "output_type": "execute_result"
    }
   ],
   "source": [
    "pd.isna(sample_data).sum()"
   ]
  },
  {
   "cell_type": "markdown",
   "metadata": {},
   "source": [
    "연속형, 범주형 변수 구분"
   ]
  },
  {
   "cell_type": "code",
   "execution_count": 12,
   "metadata": {},
   "outputs": [],
   "source": [
    "#연속형, 범주형 구분\n",
    "cat_columns = [c for (c, t) in zip(sample_data.dtypes.index, sample_data.dtypes) if t == 'O'] \n",
    "num_columns = [c for c in sample_data.columns if c not in cat_columns]"
   ]
  },
  {
   "cell_type": "code",
   "execution_count": 13,
   "metadata": {},
   "outputs": [
    {
     "data": {
      "text/plain": [
       "['workclass',\n",
       " 'education',\n",
       " 'marital_status',\n",
       " 'occupation',\n",
       " 'relationship',\n",
       " 'race',\n",
       " 'sex',\n",
       " 'native_country']"
      ]
     },
     "execution_count": 13,
     "metadata": {},
     "output_type": "execute_result"
    }
   ],
   "source": [
    "#연속형의 경우 분포 확인\n",
    "cat_columns"
   ]
  },
  {
   "cell_type": "markdown",
   "metadata": {},
   "source": [
    "범주형#1)worckclass 분포"
   ]
  },
  {
   "cell_type": "code",
   "execution_count": 14,
   "metadata": {},
   "outputs": [
    {
     "data": {
      "text/plain": [
       "<matplotlib.axes._subplots.AxesSubplot at 0x1fe244a3f08>"
      ]
     },
     "execution_count": 14,
     "metadata": {},
     "output_type": "execute_result"
    },
    {
     "data": {
      "image/png": "[encoded data removed]",
      "text/plain": [
       "<Figure size 432x288 with 1 Axes>"
      ]
     },
     "metadata": {
      "needs_background": "light"
     },
     "output_type": "display_data"
    }
   ],
   "source": [
    "#범주형의 경우 막대 그래프\n",
    "sns.countplot('workclass',data=sample_data)\n"
   ]
  },
  {
   "cell_type": "code",
   "execution_count": null,
   "metadata": {},
   "outputs": [],
   "source": [
    "#각 인종 별 workclass 수 확인(by SQL)"
   ]
  },
  {
   "cell_type": "markdown",
   "metadata": {},
   "source": [
    "범주형#2)education 분포"
   ]
  },
  {
   "cell_type": "code",
   "execution_count": 15,
   "metadata": {},
   "outputs": [
    {
     "data": {
      "text/plain": [
       "<matplotlib.axes._subplots.AxesSubplot at 0x1fe25855648>"
      ]
     },
     "execution_count": 15,
     "metadata": {},
     "output_type": "execute_result"
    },
    {
     "data": {
      "image/png": "[encoded data removed]",
      "text/plain": [
       "<Figure size 432x288 with 1 Axes>"
      ]
     },
     "metadata": {
      "needs_background": "light"
     },
     "output_type": "display_data"
    }
   ],
   "source": [
    "sns.countplot('education',data=sample_data)"
   ]
  },
  {
   "cell_type": "markdown",
   "metadata": {},
   "source": [
    "범주형#3)occupation 분포(?-> 예측하는 간단한 모델 작성 필요하다고 판단)"
   ]
  },
  {
   "cell_type": "code",
   "execution_count": 16,
   "metadata": {},
   "outputs": [
    {
     "data": {
      "text/plain": [
       "<matplotlib.axes._subplots.AxesSubplot at 0x1fe23f06d08>"
      ]
     },
     "execution_count": 16,
     "metadata": {},
     "output_type": "execute_result"
    },
    {
     "data": {
      "image/png": "[encoded data removed]",
      "text/plain": [
       "<Figure size 432x288 with 1 Axes>"
      ]
     },
     "metadata": {
      "needs_background": "light"
     },
     "output_type": "display_data"
    }
   ],
   "source": [
    "sns.countplot('occupation',data=sample_data)\n",
    "#다양한 분포. "
   ]
  },
  {
   "cell_type": "markdown",
   "metadata": {},
   "source": [
    "범주형#4)소득과 성별에 따른 나이 분포 확인"
   ]
  },
  {
   "cell_type": "code",
   "execution_count": 17,
   "metadata": {},
   "outputs": [
    {
     "data": {
      "text/plain": [
       "<matplotlib.axes._subplots.AxesSubplot at 0x1fe2599cd48>"
      ]
     },
     "execution_count": 17,
     "metadata": {},
     "output_type": "execute_result"
    },
    {
     "data": {
      "image/png": "[encoded data removed]",
      "text/plain": [
       "<Figure size 432x288 with 1 Axes>"
      ]
     },
     "metadata": {
      "needs_background": "light"
     },
     "output_type": "display_data"
    }
   ],
   "source": [
    "#소득에 따른 성별과 나이 분포 확인\n",
    "sns.violinplot('sex','age',hue='income',data=sample_data,split=True)"
   ]
  },
  {
   "cell_type": "markdown",
   "metadata": {},
   "source": [
    "범주형#5)인종 간 소득 분포"
   ]
  },
  {
   "cell_type": "code",
   "execution_count": 18,
   "metadata": {},
   "outputs": [
    {
     "data": {
      "text/plain": [
       "<seaborn.axisgrid.FacetGrid at 0x1fe25a37b88>"
      ]
     },
     "execution_count": 18,
     "metadata": {},
     "output_type": "execute_result"
    },
    {
     "data": {
      "image/png": "[encoded data removed]",
      "text/plain": [
       "<Figure size 360x360 with 1 Axes>"
      ]
     },
     "metadata": {
      "needs_background": "light"
     },
     "output_type": "display_data"
    }
   ],
   "source": [
    "#인종 간 소득 분포\n",
    "sns.factorplot('race','income',data=sample_data)"
   ]
  },
  {
   "cell_type": "markdown",
   "metadata": {},
   "source": [
    "heatmap 확인"
   ]
  },
  {
   "cell_type": "code",
   "execution_count": 19,
   "metadata": {},
   "outputs": [
    {
     "data": {
      "text/plain": [
       "<matplotlib.axes._subplots.AxesSubplot at 0x1fe2582d288>"
      ]
     },
     "execution_count": 19,
     "metadata": {},
     "output_type": "execute_result"
    },
    {
     "data": {
      "image/png": "[encoded data removed]",
      "text/plain": [
       "<Figure size 720x720 with 2 Axes>"
      ]
     },
     "metadata": {
      "needs_background": "light"
     },
     "output_type": "display_data"
    }
   ],
   "source": [
    "#연속형 분포 확인\n",
    "plt.figure(figsize=(10,10))\n",
    "sns.heatmap(data = sample_data.corr(), annot=True, cmap='Blues')"
   ]
  },
  {
   "cell_type": "markdown",
   "metadata": {},
   "source": [
    "hours_per_week 분포(정규화 필요)"
   ]
  },
  {
   "cell_type": "code",
   "execution_count": 24,
   "metadata": {},
   "outputs": [
    {
     "data": {
      "text/plain": [
       "<matplotlib.axes._subplots.AxesSubplot at 0x1fe26fd4c88>"
      ]
     },
     "execution_count": 24,
     "metadata": {},
     "output_type": "execute_result"
    },
    {
     "data": {
      "image/png": "[encoded data removed]",
      "text/plain": [
       "<Figure size 432x288 with 1 Axes>"
      ]
     },
     "metadata": {
      "needs_background": "light"
     },
     "output_type": "display_data"
    }
   ],
   "source": [
    "sns.distplot(sample_data['hours_per_week'],bins=7)"
   ]
  },
  {
   "cell_type": "markdown",
   "metadata": {},
   "source": [
    "education과 education_num 어떤 차이 있는지 확인(차이 없음을 확인)"
   ]
  },
  {
   "cell_type": "code",
   "execution_count": 32,
   "metadata": {},
   "outputs": [
    {
     "data": {
      "text/plain": [
       "HS-grad         8433\n",
       "Some-college    5800\n",
       "Bachelors       4344\n",
       "Masters         1378\n",
       "Assoc-voc       1096\n",
       "11th             922\n",
       "Assoc-acdm       842\n",
       "10th             731\n",
       "7th-8th          505\n",
       "Prof-school      466\n",
       "9th              418\n",
       "12th             359\n",
       "Doctorate        316\n",
       "5th-6th          265\n",
       "1st-4th          134\n",
       "Preschool         40\n",
       "Name: education, dtype: int64"
      ]
     },
     "execution_count": 32,
     "metadata": {},
     "output_type": "execute_result"
    }
   ],
   "source": [
    "#eudcation 변수 와 education_num 차이가 무엇인지. - 같은 것을 확인할 수 있었음.\n",
    "sample_data['education'].value_counts()"
   ]
  },
  {
   "cell_type": "code",
   "execution_count": 33,
   "metadata": {},
   "outputs": [
    {
     "data": {
      "text/plain": [
       "9     8433\n",
       "10    5800\n",
       "13    4344\n",
       "14    1378\n",
       "11    1096\n",
       "7      922\n",
       "12     842\n",
       "6      731\n",
       "4      505\n",
       "15     466\n",
       "5      418\n",
       "8      359\n",
       "16     316\n",
       "3      265\n",
       "2      134\n",
       "1       40\n",
       "Name: education_num, dtype: int64"
      ]
     },
     "execution_count": 33,
     "metadata": {},
     "output_type": "execute_result"
    }
   ],
   "source": [
    "sample_data['education_num'].value_counts()"
   ]
  },
  {
   "cell_type": "markdown",
   "metadata": {},
   "source": [
    "결론\n",
    "capital의 경우 capital_gain - capital_loss (새로운 변수 생성)\n",
    "연속형 변수의 경우 정규화 작업 실시\n",
    "education = education_num  (연습을 위해 education 사용. 그룹화 예정)\n",
    "native_country -> 지역 별 그룹화 예정\n",
    "workclass, occupation 의 경우 ? 값 존재. 이에 대한 간단한 예측 모델 생성 후 전체적인 모델 생성 예정(native_country의 결측치 경우, 미국으로 대체(최빈값))\n",
    "\n",
    "지금으로서는 race가 binary classification에 있어 영향이 큰 변수임을 유추해볼 수 있음."
   ]
  },
  {
   "cell_type": "code",
   "execution_count": null,
   "metadata": {},
   "outputs": [],
   "source": []
  },
  {
   "cell_type": "code",
   "execution_count": null,
   "metadata": {},
   "outputs": [],
   "source": []
  },
  {
   "cell_type": "code",
   "execution_count": null,
   "metadata": {},
   "outputs": [],
   "source": []
  },
  {
   "cell_type": "code",
   "execution_count": null,
   "metadata": {},
   "outputs": [],
   "source": []
  },
  {
   "cell_type": "code",
   "execution_count": null,
   "metadata": {},
   "outputs": [],
   "source": []
  },
  {
   "cell_type": "code",
   "execution_count": null,
   "metadata": {},
   "outputs": [],
   "source": []
  }
 ],
 "metadata": {
  "kernelspec": {
   "display_name": "Python 3",
   "language": "python",
   "name": "python3"
  },
  "language_info": {
   "codemirror_mode": {
    "name": "ipython",
    "version": 3
   },
   "file_extension": ".py",
   "mimetype": "text/x-python",
   "name": "python",
   "nbconvert_exporter": "python",
   "pygments_lexer": "ipython3",
   "version": "3.7.6"
  }
 },
 "nbformat": 4,
 "nbformat_minor": 4
}
